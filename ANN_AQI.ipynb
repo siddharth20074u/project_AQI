{
 "cells": [
  {
   "cell_type": "code",
   "execution_count": 2,
   "metadata": {},
   "outputs": [],
   "source": [
    "import pandas as pd\n",
    "import numpy as np\n",
    "import matplotlib.pyplot as plt\n",
    "import seaborn as sns"
   ]
  },
  {
   "cell_type": "code",
   "execution_count": 3,
   "metadata": {},
   "outputs": [],
   "source": [
    "df=pd.read_csv('/Users/siddharthsmac/Desktop/Project_AQI/Data/Real-Data/Real_Combine.csv')"
   ]
  },
  {
   "cell_type": "code",
   "execution_count": 4,
   "metadata": {},
   "outputs": [
    {
     "data": {
      "text/html": [
       "<div>\n",
       "<style scoped>\n",
       "    .dataframe tbody tr th:only-of-type {\n",
       "        vertical-align: middle;\n",
       "    }\n",
       "\n",
       "    .dataframe tbody tr th {\n",
       "        vertical-align: top;\n",
       "    }\n",
       "\n",
       "    .dataframe thead th {\n",
       "        text-align: right;\n",
       "    }\n",
       "</style>\n",
       "<table border=\"1\" class=\"dataframe\">\n",
       "  <thead>\n",
       "    <tr style=\"text-align: right;\">\n",
       "      <th></th>\n",
       "      <th>T</th>\n",
       "      <th>TM</th>\n",
       "      <th>Tm</th>\n",
       "      <th>SLP</th>\n",
       "      <th>H</th>\n",
       "      <th>VV</th>\n",
       "      <th>V</th>\n",
       "      <th>VM</th>\n",
       "      <th>PM 2.5</th>\n",
       "    </tr>\n",
       "  </thead>\n",
       "  <tbody>\n",
       "    <tr>\n",
       "      <th>0</th>\n",
       "      <td>7.4</td>\n",
       "      <td>9.8</td>\n",
       "      <td>4.8</td>\n",
       "      <td>1017.6</td>\n",
       "      <td>93.0</td>\n",
       "      <td>0.5</td>\n",
       "      <td>4.3</td>\n",
       "      <td>9.4</td>\n",
       "      <td>219.720833</td>\n",
       "    </tr>\n",
       "    <tr>\n",
       "      <th>1</th>\n",
       "      <td>7.8</td>\n",
       "      <td>12.7</td>\n",
       "      <td>4.4</td>\n",
       "      <td>1018.5</td>\n",
       "      <td>87.0</td>\n",
       "      <td>0.6</td>\n",
       "      <td>4.4</td>\n",
       "      <td>11.1</td>\n",
       "      <td>182.187500</td>\n",
       "    </tr>\n",
       "    <tr>\n",
       "      <th>2</th>\n",
       "      <td>6.7</td>\n",
       "      <td>13.4</td>\n",
       "      <td>2.4</td>\n",
       "      <td>1019.4</td>\n",
       "      <td>82.0</td>\n",
       "      <td>0.6</td>\n",
       "      <td>4.8</td>\n",
       "      <td>11.1</td>\n",
       "      <td>154.037500</td>\n",
       "    </tr>\n",
       "    <tr>\n",
       "      <th>3</th>\n",
       "      <td>8.6</td>\n",
       "      <td>15.5</td>\n",
       "      <td>3.3</td>\n",
       "      <td>1018.7</td>\n",
       "      <td>72.0</td>\n",
       "      <td>0.8</td>\n",
       "      <td>8.1</td>\n",
       "      <td>20.6</td>\n",
       "      <td>223.208333</td>\n",
       "    </tr>\n",
       "    <tr>\n",
       "      <th>4</th>\n",
       "      <td>12.4</td>\n",
       "      <td>20.9</td>\n",
       "      <td>4.4</td>\n",
       "      <td>1017.3</td>\n",
       "      <td>61.0</td>\n",
       "      <td>1.3</td>\n",
       "      <td>8.7</td>\n",
       "      <td>22.2</td>\n",
       "      <td>200.645833</td>\n",
       "    </tr>\n",
       "  </tbody>\n",
       "</table>\n",
       "</div>"
      ],
      "text/plain": [
       "      T    TM   Tm     SLP     H   VV    V    VM      PM 2.5\n",
       "0   7.4   9.8  4.8  1017.6  93.0  0.5  4.3   9.4  219.720833\n",
       "1   7.8  12.7  4.4  1018.5  87.0  0.6  4.4  11.1  182.187500\n",
       "2   6.7  13.4  2.4  1019.4  82.0  0.6  4.8  11.1  154.037500\n",
       "3   8.6  15.5  3.3  1018.7  72.0  0.8  8.1  20.6  223.208333\n",
       "4  12.4  20.9  4.4  1017.3  61.0  1.3  8.7  22.2  200.645833"
      ]
     },
     "execution_count": 4,
     "metadata": {},
     "output_type": "execute_result"
    }
   ],
   "source": [
    "df.head()"
   ]
  },
  {
   "cell_type": "code",
   "execution_count": 5,
   "metadata": {},
   "outputs": [
    {
     "data": {
      "text/plain": [
       "T         0\n",
       "TM        0\n",
       "Tm        0\n",
       "SLP       0\n",
       "H         0\n",
       "VV        0\n",
       "V         0\n",
       "VM        0\n",
       "PM 2.5    1\n",
       "dtype: int64"
      ]
     },
     "execution_count": 5,
     "metadata": {},
     "output_type": "execute_result"
    }
   ],
   "source": [
    "df.isnull().sum()"
   ]
  },
  {
   "cell_type": "code",
   "execution_count": 6,
   "metadata": {},
   "outputs": [],
   "source": [
    "df=df.dropna()"
   ]
  },
  {
   "cell_type": "code",
   "execution_count": 7,
   "metadata": {},
   "outputs": [],
   "source": [
    "X=df.iloc[:,:-1]\n",
    "y=df.iloc[:,-1] "
   ]
  },
  {
   "cell_type": "code",
   "execution_count": 8,
   "metadata": {},
   "outputs": [],
   "source": [
    "from sklearn.model_selection import train_test_split\n",
    "X_train, X_test, y_train, y_test = train_test_split(X, y, test_size=0.3, random_state=0)"
   ]
  },
  {
   "cell_type": "code",
   "execution_count": 10,
   "metadata": {},
   "outputs": [],
   "source": [
    "import keras\n",
    "from keras.models import Sequential\n",
    "from keras.layers import Dense\n",
    "from keras.layers import LeakyReLU,PReLU,ELU\n",
    "from keras.layers import Dropout"
   ]
  },
  {
   "cell_type": "code",
   "execution_count": 11,
   "metadata": {},
   "outputs": [
    {
     "name": "stdout",
     "output_type": "stream",
     "text": [
      "Model: \"sequential_1\"\n",
      "_________________________________________________________________\n",
      "Layer (type)                 Output Shape              Param #   \n",
      "=================================================================\n",
      "dense_1 (Dense)              (None, 128)               1152      \n",
      "_________________________________________________________________\n",
      "dense_2 (Dense)              (None, 256)               33024     \n",
      "_________________________________________________________________\n",
      "dense_3 (Dense)              (None, 256)               65792     \n",
      "_________________________________________________________________\n",
      "dense_4 (Dense)              (None, 256)               65792     \n",
      "_________________________________________________________________\n",
      "dense_5 (Dense)              (None, 1)                 257       \n",
      "=================================================================\n",
      "Total params: 166,017\n",
      "Trainable params: 166,017\n",
      "Non-trainable params: 0\n",
      "_________________________________________________________________\n"
     ]
    },
    {
     "name": "stderr",
     "output_type": "stream",
     "text": [
      "/Users/siddharthsmac/opt/anaconda3/lib/python3.7/site-packages/ipykernel_launcher.py:19: UserWarning: The `nb_epoch` argument in `fit` has been renamed `epochs`.\n"
     ]
    },
    {
     "name": "stdout",
     "output_type": "stream",
     "text": [
      "WARNING:tensorflow:From /Users/siddharthsmac/opt/anaconda3/lib/python3.7/site-packages/keras/backend/tensorflow_backend.py:422: The name tf.global_variables is deprecated. Please use tf.compat.v1.global_variables instead.\n",
      "\n",
      "Train on 342 samples, validate on 169 samples\n",
      "Epoch 1/100\n",
      "342/342 [==============================] - 0s 930us/step - loss: 72.8971 - mean_absolute_error: 72.8971 - val_loss: 62.6540 - val_mean_absolute_error: 62.6540\n",
      "Epoch 2/100\n",
      "342/342 [==============================] - 0s 193us/step - loss: 68.1000 - mean_absolute_error: 68.1000 - val_loss: 64.0346 - val_mean_absolute_error: 64.0346\n",
      "Epoch 3/100\n",
      "342/342 [==============================] - 0s 230us/step - loss: 69.7316 - mean_absolute_error: 69.7316 - val_loss: 68.9575 - val_mean_absolute_error: 68.9575\n",
      "Epoch 4/100\n",
      "342/342 [==============================] - 0s 176us/step - loss: 67.3862 - mean_absolute_error: 67.3862 - val_loss: 60.5127 - val_mean_absolute_error: 60.5127\n",
      "Epoch 5/100\n",
      "342/342 [==============================] - 0s 164us/step - loss: 64.4542 - mean_absolute_error: 64.4542 - val_loss: 62.2501 - val_mean_absolute_error: 62.2500\n",
      "Epoch 6/100\n",
      "342/342 [==============================] - 0s 165us/step - loss: 62.0061 - mean_absolute_error: 62.0061 - val_loss: 58.1195 - val_mean_absolute_error: 58.1195\n",
      "Epoch 7/100\n",
      "342/342 [==============================] - 0s 152us/step - loss: 59.7600 - mean_absolute_error: 59.7599 - val_loss: 55.1044 - val_mean_absolute_error: 55.1044\n",
      "Epoch 8/100\n",
      "342/342 [==============================] - 0s 153us/step - loss: 51.4518 - mean_absolute_error: 51.4518 - val_loss: 43.7010 - val_mean_absolute_error: 43.7010\n",
      "Epoch 9/100\n",
      "342/342 [==============================] - 0s 158us/step - loss: 44.8205 - mean_absolute_error: 44.8205 - val_loss: 45.9369 - val_mean_absolute_error: 45.9369\n",
      "Epoch 10/100\n",
      "342/342 [==============================] - 0s 170us/step - loss: 43.6684 - mean_absolute_error: 43.6684 - val_loss: 55.9222 - val_mean_absolute_error: 55.9222\n",
      "Epoch 11/100\n",
      "342/342 [==============================] - 0s 166us/step - loss: 46.0135 - mean_absolute_error: 46.0135 - val_loss: 43.8486 - val_mean_absolute_error: 43.8486\n",
      "Epoch 12/100\n",
      "342/342 [==============================] - 0s 162us/step - loss: 42.3117 - mean_absolute_error: 42.3117 - val_loss: 41.9943 - val_mean_absolute_error: 41.9943\n",
      "Epoch 13/100\n",
      "342/342 [==============================] - 0s 167us/step - loss: 41.1835 - mean_absolute_error: 41.1835 - val_loss: 41.4931 - val_mean_absolute_error: 41.4931\n",
      "Epoch 14/100\n",
      "342/342 [==============================] - 0s 161us/step - loss: 40.9710 - mean_absolute_error: 40.9710 - val_loss: 53.6739 - val_mean_absolute_error: 53.6739\n",
      "Epoch 15/100\n",
      "342/342 [==============================] - 0s 155us/step - loss: 42.7484 - mean_absolute_error: 42.7484 - val_loss: 47.2429 - val_mean_absolute_error: 47.2428\n",
      "Epoch 16/100\n",
      "342/342 [==============================] - 0s 166us/step - loss: 45.1459 - mean_absolute_error: 45.1459 - val_loss: 41.9352 - val_mean_absolute_error: 41.9352\n",
      "Epoch 17/100\n",
      "342/342 [==============================] - 0s 163us/step - loss: 41.7466 - mean_absolute_error: 41.7466 - val_loss: 44.3441 - val_mean_absolute_error: 44.3441\n",
      "Epoch 18/100\n",
      "342/342 [==============================] - 0s 176us/step - loss: 44.9049 - mean_absolute_error: 44.9049 - val_loss: 46.3919 - val_mean_absolute_error: 46.3919\n",
      "Epoch 19/100\n",
      "342/342 [==============================] - 0s 192us/step - loss: 42.7250 - mean_absolute_error: 42.7249 - val_loss: 40.3680 - val_mean_absolute_error: 40.3680\n",
      "Epoch 20/100\n",
      "342/342 [==============================] - 0s 168us/step - loss: 40.6491 - mean_absolute_error: 40.6491 - val_loss: 46.2234 - val_mean_absolute_error: 46.2234\n",
      "Epoch 21/100\n",
      "342/342 [==============================] - 0s 171us/step - loss: 39.9053 - mean_absolute_error: 39.9053 - val_loss: 42.7024 - val_mean_absolute_error: 42.7024\n",
      "Epoch 22/100\n",
      "342/342 [==============================] - 0s 195us/step - loss: 41.3006 - mean_absolute_error: 41.3006 - val_loss: 42.6647 - val_mean_absolute_error: 42.6647\n",
      "Epoch 23/100\n",
      "342/342 [==============================] - 0s 188us/step - loss: 40.8957 - mean_absolute_error: 40.8957 - val_loss: 45.8858 - val_mean_absolute_error: 45.8858\n",
      "Epoch 24/100\n",
      "342/342 [==============================] - 0s 192us/step - loss: 43.3133 - mean_absolute_error: 43.3133 - val_loss: 41.2301 - val_mean_absolute_error: 41.2301\n",
      "Epoch 25/100\n",
      "342/342 [==============================] - 0s 192us/step - loss: 41.4116 - mean_absolute_error: 41.4116 - val_loss: 40.3287 - val_mean_absolute_error: 40.3287\n",
      "Epoch 26/100\n",
      "342/342 [==============================] - 0s 164us/step - loss: 39.3683 - mean_absolute_error: 39.3682 - val_loss: 40.9416 - val_mean_absolute_error: 40.9416\n",
      "Epoch 27/100\n",
      "342/342 [==============================] - 0s 161us/step - loss: 38.3937 - mean_absolute_error: 38.3937 - val_loss: 41.2832 - val_mean_absolute_error: 41.2832\n",
      "Epoch 28/100\n",
      "342/342 [==============================] - 0s 157us/step - loss: 38.6612 - mean_absolute_error: 38.6612 - val_loss: 41.7402 - val_mean_absolute_error: 41.7402\n",
      "Epoch 29/100\n",
      "342/342 [==============================] - 0s 147us/step - loss: 39.9843 - mean_absolute_error: 39.9843 - val_loss: 40.5862 - val_mean_absolute_error: 40.5862\n",
      "Epoch 30/100\n",
      "342/342 [==============================] - 0s 147us/step - loss: 43.0607 - mean_absolute_error: 43.0607 - val_loss: 39.7715 - val_mean_absolute_error: 39.7715\n",
      "Epoch 31/100\n",
      "342/342 [==============================] - 0s 148us/step - loss: 38.7596 - mean_absolute_error: 38.7596 - val_loss: 46.7064 - val_mean_absolute_error: 46.7064\n",
      "Epoch 32/100\n",
      "342/342 [==============================] - 0s 146us/step - loss: 38.8445 - mean_absolute_error: 38.8445 - val_loss: 39.8710 - val_mean_absolute_error: 39.8710\n",
      "Epoch 33/100\n",
      "342/342 [==============================] - 0s 146us/step - loss: 39.6027 - mean_absolute_error: 39.6027 - val_loss: 45.0548 - val_mean_absolute_error: 45.0548\n",
      "Epoch 34/100\n",
      "342/342 [==============================] - 0s 155us/step - loss: 39.6324 - mean_absolute_error: 39.6324 - val_loss: 42.2207 - val_mean_absolute_error: 42.2207\n",
      "Epoch 35/100\n",
      "342/342 [==============================] - 0s 161us/step - loss: 39.5503 - mean_absolute_error: 39.5503 - val_loss: 42.4286 - val_mean_absolute_error: 42.4286\n",
      "Epoch 36/100\n",
      "342/342 [==============================] - 0s 148us/step - loss: 40.4932 - mean_absolute_error: 40.4932 - val_loss: 41.9947 - val_mean_absolute_error: 41.9947\n",
      "Epoch 37/100\n",
      "342/342 [==============================] - 0s 146us/step - loss: 38.2273 - mean_absolute_error: 38.2273 - val_loss: 39.6081 - val_mean_absolute_error: 39.6081\n",
      "Epoch 38/100\n",
      "342/342 [==============================] - 0s 153us/step - loss: 38.8525 - mean_absolute_error: 38.8525 - val_loss: 40.7906 - val_mean_absolute_error: 40.7906\n",
      "Epoch 39/100\n",
      "342/342 [==============================] - 0s 154us/step - loss: 38.0711 - mean_absolute_error: 38.0711 - val_loss: 39.6804 - val_mean_absolute_error: 39.6804\n",
      "Epoch 40/100\n",
      "342/342 [==============================] - 0s 155us/step - loss: 38.5909 - mean_absolute_error: 38.5909 - val_loss: 40.2599 - val_mean_absolute_error: 40.2599\n",
      "Epoch 41/100\n",
      "342/342 [==============================] - 0s 158us/step - loss: 37.8021 - mean_absolute_error: 37.8021 - val_loss: 41.4199 - val_mean_absolute_error: 41.4199\n",
      "Epoch 42/100\n",
      "342/342 [==============================] - 0s 155us/step - loss: 38.3742 - mean_absolute_error: 38.3742 - val_loss: 38.8186 - val_mean_absolute_error: 38.8186\n",
      "Epoch 43/100\n",
      "342/342 [==============================] - 0s 160us/step - loss: 38.0973 - mean_absolute_error: 38.0973 - val_loss: 39.4380 - val_mean_absolute_error: 39.4380\n",
      "Epoch 44/100\n",
      "342/342 [==============================] - 0s 157us/step - loss: 39.6479 - mean_absolute_error: 39.6479 - val_loss: 41.5082 - val_mean_absolute_error: 41.5082\n",
      "Epoch 45/100\n",
      "342/342 [==============================] - 0s 156us/step - loss: 38.5939 - mean_absolute_error: 38.5939 - val_loss: 46.5734 - val_mean_absolute_error: 46.5734\n",
      "Epoch 46/100\n",
      "342/342 [==============================] - 0s 156us/step - loss: 41.0814 - mean_absolute_error: 41.0814 - val_loss: 39.2247 - val_mean_absolute_error: 39.2247\n",
      "Epoch 47/100\n",
      "342/342 [==============================] - 0s 151us/step - loss: 37.6867 - mean_absolute_error: 37.6867 - val_loss: 41.2348 - val_mean_absolute_error: 41.2348\n",
      "Epoch 48/100\n",
      "342/342 [==============================] - 0s 152us/step - loss: 38.5047 - mean_absolute_error: 38.5047 - val_loss: 43.8544 - val_mean_absolute_error: 43.8544\n",
      "Epoch 49/100\n",
      "342/342 [==============================] - 0s 147us/step - loss: 38.1915 - mean_absolute_error: 38.1915 - val_loss: 39.7581 - val_mean_absolute_error: 39.7581\n",
      "Epoch 50/100\n",
      "342/342 [==============================] - 0s 145us/step - loss: 39.1062 - mean_absolute_error: 39.1062 - val_loss: 39.2003 - val_mean_absolute_error: 39.2003\n",
      "Epoch 51/100\n",
      "342/342 [==============================] - 0s 144us/step - loss: 37.6932 - mean_absolute_error: 37.6932 - val_loss: 43.1285 - val_mean_absolute_error: 43.1285\n",
      "Epoch 52/100\n",
      "342/342 [==============================] - 0s 145us/step - loss: 39.0877 - mean_absolute_error: 39.0877 - val_loss: 45.8755 - val_mean_absolute_error: 45.8755\n",
      "Epoch 53/100\n",
      "342/342 [==============================] - 0s 173us/step - loss: 41.6971 - mean_absolute_error: 41.6971 - val_loss: 39.7256 - val_mean_absolute_error: 39.7256\n",
      "Epoch 54/100\n",
      "342/342 [==============================] - 0s 144us/step - loss: 41.2979 - mean_absolute_error: 41.2979 - val_loss: 40.2294 - val_mean_absolute_error: 40.2294\n",
      "Epoch 55/100\n",
      "342/342 [==============================] - 0s 147us/step - loss: 37.0727 - mean_absolute_error: 37.0727 - val_loss: 39.4061 - val_mean_absolute_error: 39.4061\n",
      "Epoch 56/100\n",
      "342/342 [==============================] - 0s 147us/step - loss: 37.6041 - mean_absolute_error: 37.6041 - val_loss: 41.1350 - val_mean_absolute_error: 41.1350\n",
      "Epoch 57/100\n",
      "342/342 [==============================] - 0s 146us/step - loss: 38.0516 - mean_absolute_error: 38.0516 - val_loss: 40.1423 - val_mean_absolute_error: 40.1423\n",
      "Epoch 58/100\n",
      "342/342 [==============================] - 0s 151us/step - loss: 38.2754 - mean_absolute_error: 38.2754 - val_loss: 46.1167 - val_mean_absolute_error: 46.1167\n",
      "Epoch 59/100\n",
      "342/342 [==============================] - 0s 167us/step - loss: 41.8110 - mean_absolute_error: 41.8110 - val_loss: 42.0377 - val_mean_absolute_error: 42.0377\n",
      "Epoch 60/100\n",
      "342/342 [==============================] - 0s 174us/step - loss: 36.9793 - mean_absolute_error: 36.9793 - val_loss: 40.8940 - val_mean_absolute_error: 40.8940\n",
      "Epoch 61/100\n",
      "342/342 [==============================] - 0s 164us/step - loss: 37.3707 - mean_absolute_error: 37.3707 - val_loss: 44.9449 - val_mean_absolute_error: 44.9449\n",
      "Epoch 62/100\n",
      "342/342 [==============================] - 0s 176us/step - loss: 38.1527 - mean_absolute_error: 38.1527 - val_loss: 40.5090 - val_mean_absolute_error: 40.5090\n",
      "Epoch 63/100\n",
      "342/342 [==============================] - 0s 172us/step - loss: 39.1753 - mean_absolute_error: 39.1753 - val_loss: 38.9404 - val_mean_absolute_error: 38.9404\n",
      "Epoch 64/100\n",
      "342/342 [==============================] - 0s 174us/step - loss: 39.5142 - mean_absolute_error: 39.5142 - val_loss: 38.9566 - val_mean_absolute_error: 38.9566\n",
      "Epoch 65/100\n",
      "342/342 [==============================] - 0s 168us/step - loss: 39.3666 - mean_absolute_error: 39.3666 - val_loss: 38.6630 - val_mean_absolute_error: 38.6630\n",
      "Epoch 66/100\n",
      "342/342 [==============================] - 0s 176us/step - loss: 36.8502 - mean_absolute_error: 36.8502 - val_loss: 40.6694 - val_mean_absolute_error: 40.6694\n",
      "Epoch 67/100\n",
      "342/342 [==============================] - 0s 177us/step - loss: 36.9820 - mean_absolute_error: 36.9820 - val_loss: 41.9561 - val_mean_absolute_error: 41.9561\n",
      "Epoch 68/100\n",
      "342/342 [==============================] - 0s 167us/step - loss: 39.4749 - mean_absolute_error: 39.4749 - val_loss: 43.1740 - val_mean_absolute_error: 43.1740\n",
      "Epoch 69/100\n",
      "342/342 [==============================] - 0s 167us/step - loss: 38.0873 - mean_absolute_error: 38.0873 - val_loss: 38.4153 - val_mean_absolute_error: 38.4153\n",
      "Epoch 70/100\n",
      "342/342 [==============================] - 0s 170us/step - loss: 38.1657 - mean_absolute_error: 38.1657 - val_loss: 46.0074 - val_mean_absolute_error: 46.0074\n",
      "Epoch 71/100\n",
      "342/342 [==============================] - 0s 170us/step - loss: 41.0886 - mean_absolute_error: 41.0886 - val_loss: 38.4046 - val_mean_absolute_error: 38.4046\n",
      "Epoch 72/100\n",
      "342/342 [==============================] - 0s 175us/step - loss: 39.2557 - mean_absolute_error: 39.2557 - val_loss: 38.5105 - val_mean_absolute_error: 38.5105\n",
      "Epoch 73/100\n",
      "342/342 [==============================] - 0s 175us/step - loss: 37.2959 - mean_absolute_error: 37.2959 - val_loss: 45.0352 - val_mean_absolute_error: 45.0352\n",
      "Epoch 74/100\n",
      "342/342 [==============================] - 0s 178us/step - loss: 40.8212 - mean_absolute_error: 40.8212 - val_loss: 38.3640 - val_mean_absolute_error: 38.3640\n",
      "Epoch 75/100\n",
      "342/342 [==============================] - 0s 176us/step - loss: 37.2062 - mean_absolute_error: 37.2062 - val_loss: 38.9428 - val_mean_absolute_error: 38.9428\n",
      "Epoch 76/100\n",
      "342/342 [==============================] - 0s 175us/step - loss: 36.3983 - mean_absolute_error: 36.3983 - val_loss: 41.0939 - val_mean_absolute_error: 41.0939\n",
      "Epoch 77/100\n",
      "342/342 [==============================] - 0s 174us/step - loss: 40.3841 - mean_absolute_error: 40.3841 - val_loss: 40.5384 - val_mean_absolute_error: 40.5384\n",
      "Epoch 78/100\n",
      "342/342 [==============================] - 0s 174us/step - loss: 43.9236 - mean_absolute_error: 43.9236 - val_loss: 44.5215 - val_mean_absolute_error: 44.5215\n",
      "Epoch 79/100\n",
      "342/342 [==============================] - 0s 167us/step - loss: 37.8898 - mean_absolute_error: 37.8898 - val_loss: 39.2153 - val_mean_absolute_error: 39.2153\n",
      "Epoch 80/100\n",
      "342/342 [==============================] - 0s 176us/step - loss: 44.1692 - mean_absolute_error: 44.1692 - val_loss: 39.6982 - val_mean_absolute_error: 39.6982\n",
      "Epoch 81/100\n",
      "342/342 [==============================] - 0s 174us/step - loss: 37.1118 - mean_absolute_error: 37.1118 - val_loss: 39.0136 - val_mean_absolute_error: 39.0136\n",
      "Epoch 82/100\n",
      "342/342 [==============================] - 0s 177us/step - loss: 38.0198 - mean_absolute_error: 38.0198 - val_loss: 43.3436 - val_mean_absolute_error: 43.3436\n",
      "Epoch 83/100\n",
      "342/342 [==============================] - 0s 168us/step - loss: 37.5820 - mean_absolute_error: 37.5820 - val_loss: 39.4168 - val_mean_absolute_error: 39.4168\n",
      "Epoch 84/100\n",
      "342/342 [==============================] - 0s 166us/step - loss: 39.8871 - mean_absolute_error: 39.8871 - val_loss: 40.9573 - val_mean_absolute_error: 40.9573\n",
      "Epoch 85/100\n",
      "342/342 [==============================] - 0s 174us/step - loss: 37.0100 - mean_absolute_error: 37.0100 - val_loss: 40.7452 - val_mean_absolute_error: 40.7452\n",
      "Epoch 86/100\n",
      "342/342 [==============================] - 0s 175us/step - loss: 38.4275 - mean_absolute_error: 38.4275 - val_loss: 38.7343 - val_mean_absolute_error: 38.7343\n",
      "Epoch 87/100\n",
      "342/342 [==============================] - 0s 174us/step - loss: 36.5193 - mean_absolute_error: 36.5193 - val_loss: 41.4677 - val_mean_absolute_error: 41.4677\n",
      "Epoch 88/100\n",
      "342/342 [==============================] - 0s 170us/step - loss: 37.5045 - mean_absolute_error: 37.5045 - val_loss: 39.5913 - val_mean_absolute_error: 39.5913\n",
      "Epoch 89/100\n",
      "342/342 [==============================] - 0s 172us/step - loss: 38.5521 - mean_absolute_error: 38.5521 - val_loss: 40.4469 - val_mean_absolute_error: 40.4469\n",
      "Epoch 90/100\n",
      "342/342 [==============================] - 0s 178us/step - loss: 37.0739 - mean_absolute_error: 37.0739 - val_loss: 40.9245 - val_mean_absolute_error: 40.9245\n",
      "Epoch 91/100\n",
      "342/342 [==============================] - 0s 179us/step - loss: 36.2181 - mean_absolute_error: 36.2181 - val_loss: 40.0451 - val_mean_absolute_error: 40.0451\n",
      "Epoch 92/100\n",
      "342/342 [==============================] - 0s 173us/step - loss: 36.3630 - mean_absolute_error: 36.3630 - val_loss: 40.5472 - val_mean_absolute_error: 40.5472\n",
      "Epoch 93/100\n",
      "342/342 [==============================] - 0s 181us/step - loss: 36.9494 - mean_absolute_error: 36.9494 - val_loss: 41.4275 - val_mean_absolute_error: 41.4275\n",
      "Epoch 94/100\n",
      "342/342 [==============================] - 0s 182us/step - loss: 39.4753 - mean_absolute_error: 39.4753 - val_loss: 40.0901 - val_mean_absolute_error: 40.0901\n",
      "Epoch 95/100\n",
      "342/342 [==============================] - 0s 190us/step - loss: 36.4555 - mean_absolute_error: 36.4555 - val_loss: 41.4110 - val_mean_absolute_error: 41.4110\n",
      "Epoch 96/100\n",
      "342/342 [==============================] - 0s 179us/step - loss: 36.7037 - mean_absolute_error: 36.7037 - val_loss: 38.7390 - val_mean_absolute_error: 38.7390\n",
      "Epoch 97/100\n",
      "342/342 [==============================] - 0s 171us/step - loss: 36.5767 - mean_absolute_error: 36.5767 - val_loss: 38.6658 - val_mean_absolute_error: 38.6658\n",
      "Epoch 98/100\n",
      "342/342 [==============================] - 0s 175us/step - loss: 36.5273 - mean_absolute_error: 36.5273 - val_loss: 38.8234 - val_mean_absolute_error: 38.8234\n",
      "Epoch 99/100\n",
      "342/342 [==============================] - 0s 178us/step - loss: 38.2080 - mean_absolute_error: 38.2080 - val_loss: 38.9059 - val_mean_absolute_error: 38.9059\n",
      "Epoch 100/100\n",
      "342/342 [==============================] - 0s 176us/step - loss: 39.5133 - mean_absolute_error: 39.5133 - val_loss: 39.7699 - val_mean_absolute_error: 39.7699\n"
     ]
    }
   ],
   "source": [
    "NN_model = Sequential()\n",
    "\n",
    "# The Input Layer :\n",
    "NN_model.add(Dense(128, kernel_initializer='normal',input_dim = X_train.shape[1], activation='relu'))\n",
    "\n",
    "# The Hidden Layers :\n",
    "NN_model.add(Dense(256, kernel_initializer='normal',activation='relu'))\n",
    "NN_model.add(Dense(256, kernel_initializer='normal',activation='relu'))\n",
    "NN_model.add(Dense(256, kernel_initializer='normal',activation='relu'))\n",
    "\n",
    "# The Output Layer :\n",
    "NN_model.add(Dense(1, kernel_initializer='normal',activation='linear'))\n",
    "\n",
    "# Compile the network :\n",
    "NN_model.compile(loss='mean_absolute_error', optimizer='adam', metrics=['mean_absolute_error'])\n",
    "NN_model.summary()\n",
    "\n",
    "# Fitting the ANN to the Training set\n",
    "model_history=NN_model.fit(X_train, y_train,validation_split=0.33, batch_size = 10, nb_epoch = 100)"
   ]
  },
  {
   "cell_type": "code",
   "execution_count": 18,
   "metadata": {},
   "outputs": [],
   "source": [
    "predictions=NN_model.predict(X_test)"
   ]
  },
  {
   "cell_type": "code",
   "execution_count": 19,
   "metadata": {},
   "outputs": [
    {
     "name": "stderr",
     "output_type": "stream",
     "text": [
      "/Users/siddharthsmac/opt/anaconda3/lib/python3.7/site-packages/seaborn/distributions.py:2551: FutureWarning: `distplot` is a deprecated function and will be removed in a future version. Please adapt your code to use either `displot` (a figure-level function with similar flexibility) or `histplot` (an axes-level function for histograms).\n",
      "  warnings.warn(msg, FutureWarning)\n"
     ]
    },
    {
     "data": {
      "text/plain": [
       "<matplotlib.axes._subplots.AxesSubplot at 0x7ff92ca11c90>"
      ]
     },
     "execution_count": 19,
     "metadata": {},
     "output_type": "execute_result"
    },
    {
     "data": {
      "image/png": "[encoded data removed]",
      "text/plain": [
       "<Figure size 432x288 with 1 Axes>"
      ]
     },
     "metadata": {
      "needs_background": "light"
     },
     "output_type": "display_data"
    }
   ],
   "source": [
    "sns.distplot(y_test.values.reshape(-1,1)-predictions)"
   ]
  },
  {
   "cell_type": "code",
   "execution_count": 20,
   "metadata": {},
   "outputs": [
    {
     "data": {
      "text/plain": [
       "<matplotlib.collections.PathCollection at 0x7ff92ca84850>"
      ]
     },
     "execution_count": 20,
     "metadata": {},
     "output_type": "execute_result"
    },
    {
     "data": {
      "image/png": "[encoded data removed]",
      "text/plain": [
       "<Figure size 432x288 with 1 Axes>"
      ]
     },
     "metadata": {
      "needs_background": "light"
     },
     "output_type": "display_data"
    }
   ],
   "source": [
    "plt.scatter(y_test,predictions)"
   ]
  },
  {
   "cell_type": "code",
   "execution_count": 21,
   "metadata": {},
   "outputs": [],
   "source": [
    "from sklearn import metrics"
   ]
  },
  {
   "cell_type": "code",
   "execution_count": 22,
   "metadata": {},
   "outputs": [
    {
     "name": "stdout",
     "output_type": "stream",
     "text": [
      "MAE: 39.17456012592286\n",
      "MSE: 3444.652190334712\n",
      "RMSE: 58.691159388230794\n"
     ]
    }
   ],
   "source": [
    "print('MAE:', metrics.mean_absolute_error(y_test, predictions))\n",
    "print('MSE:', metrics.mean_squared_error(y_test, predictions))\n",
    "print('RMSE:', np.sqrt(metrics.mean_squared_error(y_test, predictions)))"
   ]
  },
  {
   "cell_type": "code",
   "execution_count": 23,
   "metadata": {},
   "outputs": [],
   "source": [
    "import pickle"
   ]
  },
  {
   "cell_type": "code",
   "execution_count": 24,
   "metadata": {},
   "outputs": [],
   "source": [
    "file = open('/Users/siddharthsmac/Desktop/Project_AQI/ANN_model.pkl', 'wb')\n",
    "\n",
    "pickle.dump(model_history, file)"
   ]
  },
  {
   "cell_type": "code",
   "execution_count": null,
   "metadata": {},
   "outputs": [],
   "source": []
  }
 ],
 "metadata": {
  "kernelspec": {
   "display_name": "Python 3",
   "language": "python",
   "name": "python3"
  },
  "language_info": {
   "codemirror_mode": {
    "name": "ipython",
    "version": 3
   },
   "file_extension": ".py",
   "mimetype": "text/x-python",
   "name": "python",
   "nbconvert_exporter": "python",
   "pygments_lexer": "ipython3",
   "version": "3.7.6"
  }
 },
 "nbformat": 4,
 "nbformat_minor": 4
}
